{
 "cells": [
  {
   "cell_type": "code",
   "execution_count": 1,
   "metadata": {},
   "outputs": [
    {
     "name": "stdout",
     "output_type": "stream",
     "text": [
      "Requirement already satisfied: kafka-python in c:\\users\\bk\\appdata\\local\\packages\\pythonsoftwarefoundation.python.3.10_qbz5n2kfra8p0\\localcache\\local-packages\\python310\\site-packages (2.0.2)\n",
      "Note: you may need to restart the kernel to use updated packages.\n"
     ]
    }
   ],
   "source": [
    "pip install kafka-python"
   ]
  },
  {
   "cell_type": "code",
   "execution_count": 5,
   "metadata": {},
   "outputs": [
    {
     "name": "stdout",
     "output_type": "stream",
     "text": [
      "Requirement already satisfied: s3fs in c:\\users\\bk\\appdata\\local\\packages\\pythonsoftwarefoundation.python.3.10_qbz5n2kfra8p0\\localcache\\local-packages\\python310\\site-packages (2023.6.0)Note: you may need to restart the kernel to use updated packages.\n",
      "\n",
      "Requirement already satisfied: aiobotocore~=2.5.0 in c:\\users\\bk\\appdata\\local\\packages\\pythonsoftwarefoundation.python.3.10_qbz5n2kfra8p0\\localcache\\local-packages\\python310\\site-packages (from s3fs) (2.5.2)\n",
      "Requirement already satisfied: fsspec==2023.6.0 in c:\\users\\bk\\appdata\\local\\packages\\pythonsoftwarefoundation.python.3.10_qbz5n2kfra8p0\\localcache\\local-packages\\python310\\site-packages (from s3fs) (2023.6.0)\n",
      "Requirement already satisfied: aiohttp!=4.0.0a0,!=4.0.0a1 in c:\\users\\bk\\appdata\\local\\packages\\pythonsoftwarefoundation.python.3.10_qbz5n2kfra8p0\\localcache\\local-packages\\python310\\site-packages (from s3fs) (3.8.4)\n",
      "Requirement already satisfied: botocore<1.29.162,>=1.29.161 in c:\\users\\bk\\appdata\\local\\packages\\pythonsoftwarefoundation.python.3.10_qbz5n2kfra8p0\\localcache\\local-packages\\python310\\site-packages (from aiobotocore~=2.5.0->s3fs) (1.29.161)\n",
      "Requirement already satisfied: wrapt<2.0.0,>=1.10.10 in c:\\users\\bk\\appdata\\local\\packages\\pythonsoftwarefoundation.python.3.10_qbz5n2kfra8p0\\localcache\\local-packages\\python310\\site-packages (from aiobotocore~=2.5.0->s3fs) (1.14.1)\n",
      "Requirement already satisfied: aioitertools<1.0.0,>=0.5.1 in c:\\users\\bk\\appdata\\local\\packages\\pythonsoftwarefoundation.python.3.10_qbz5n2kfra8p0\\localcache\\local-packages\\python310\\site-packages (from aiobotocore~=2.5.0->s3fs) (0.11.0)\n",
      "Requirement already satisfied: attrs>=17.3.0 in c:\\users\\bk\\appdata\\local\\packages\\pythonsoftwarefoundation.python.3.10_qbz5n2kfra8p0\\localcache\\local-packages\\python310\\site-packages (from aiohttp!=4.0.0a0,!=4.0.0a1->s3fs) (23.1.0)\n",
      "Requirement already satisfied: charset-normalizer<4.0,>=2.0 in c:\\users\\bk\\appdata\\local\\packages\\pythonsoftwarefoundation.python.3.10_qbz5n2kfra8p0\\localcache\\local-packages\\python310\\site-packages (from aiohttp!=4.0.0a0,!=4.0.0a1->s3fs) (3.1.0)\n",
      "Requirement already satisfied: multidict<7.0,>=4.5 in c:\\users\\bk\\appdata\\local\\packages\\pythonsoftwarefoundation.python.3.10_qbz5n2kfra8p0\\localcache\\local-packages\\python310\\site-packages (from aiohttp!=4.0.0a0,!=4.0.0a1->s3fs) (6.0.4)\n",
      "Requirement already satisfied: async-timeout<5.0,>=4.0.0a3 in c:\\users\\bk\\appdata\\local\\packages\\pythonsoftwarefoundation.python.3.10_qbz5n2kfra8p0\\localcache\\local-packages\\python310\\site-packages (from aiohttp!=4.0.0a0,!=4.0.0a1->s3fs) (4.0.2)\n",
      "Requirement already satisfied: yarl<2.0,>=1.0 in c:\\users\\bk\\appdata\\local\\packages\\pythonsoftwarefoundation.python.3.10_qbz5n2kfra8p0\\localcache\\local-packages\\python310\\site-packages (from aiohttp!=4.0.0a0,!=4.0.0a1->s3fs) (1.9.2)\n",
      "Requirement already satisfied: frozenlist>=1.1.1 in c:\\users\\bk\\appdata\\local\\packages\\pythonsoftwarefoundation.python.3.10_qbz5n2kfra8p0\\localcache\\local-packages\\python310\\site-packages (from aiohttp!=4.0.0a0,!=4.0.0a1->s3fs) (1.4.0)\n",
      "Requirement already satisfied: aiosignal>=1.1.2 in c:\\users\\bk\\appdata\\local\\packages\\pythonsoftwarefoundation.python.3.10_qbz5n2kfra8p0\\localcache\\local-packages\\python310\\site-packages (from aiohttp!=4.0.0a0,!=4.0.0a1->s3fs) (1.3.1)\n",
      "Requirement already satisfied: jmespath<2.0.0,>=0.7.1 in c:\\users\\bk\\appdata\\local\\packages\\pythonsoftwarefoundation.python.3.10_qbz5n2kfra8p0\\localcache\\local-packages\\python310\\site-packages (from botocore<1.29.162,>=1.29.161->aiobotocore~=2.5.0->s3fs) (1.0.1)\n",
      "Requirement already satisfied: python-dateutil<3.0.0,>=2.1 in c:\\users\\bk\\appdata\\local\\packages\\pythonsoftwarefoundation.python.3.10_qbz5n2kfra8p0\\localcache\\local-packages\\python310\\site-packages (from botocore<1.29.162,>=1.29.161->aiobotocore~=2.5.0->s3fs) (2.8.2)\n",
      "Requirement already satisfied: urllib3<1.27,>=1.25.4 in c:\\users\\bk\\appdata\\local\\packages\\pythonsoftwarefoundation.python.3.10_qbz5n2kfra8p0\\localcache\\local-packages\\python310\\site-packages (from botocore<1.29.162,>=1.29.161->aiobotocore~=2.5.0->s3fs) (1.26.15)\n",
      "Requirement already satisfied: idna>=2.0 in c:\\users\\bk\\appdata\\local\\packages\\pythonsoftwarefoundation.python.3.10_qbz5n2kfra8p0\\localcache\\local-packages\\python310\\site-packages (from yarl<2.0,>=1.0->aiohttp!=4.0.0a0,!=4.0.0a1->s3fs) (3.4)\n",
      "Requirement already satisfied: six>=1.5 in c:\\users\\bk\\appdata\\local\\packages\\pythonsoftwarefoundation.python.3.10_qbz5n2kfra8p0\\localcache\\local-packages\\python310\\site-packages (from python-dateutil<3.0.0,>=2.1->botocore<1.29.162,>=1.29.161->aiobotocore~=2.5.0->s3fs) (1.16.0)\n"
     ]
    }
   ],
   "source": [
    "pip install s3fs"
   ]
  },
  {
   "cell_type": "code",
   "execution_count": 21,
   "metadata": {},
   "outputs": [],
   "source": [
    "import pandas as pd\n",
    "from kafka import KafkaProducer\n",
    "from time import sleep\n",
    "from json import dumps\n",
    "import json\n"
   ]
  },
  {
   "cell_type": "code",
   "execution_count": 22,
   "metadata": {},
   "outputs": [],
   "source": [
    "producer = KafkaProducer(bootstrap_servers=['18.209.167.29:9092'],  # change ip here\n",
    "                         value_serializer=lambda x:\n",
    "                         dumps(x).encode('utf-8'))"
   ]
  },
  {
   "cell_type": "code",
   "execution_count": 26,
   "metadata": {},
   "outputs": [
    {
     "data": {
      "text/plain": [
       "<kafka.producer.future.FutureRecordMetadata at 0x20645e8a260>"
      ]
     },
     "execution_count": 26,
     "metadata": {},
     "output_type": "execute_result"
    }
   ],
   "source": [
    "producer.send('demo_test', value={'Light':'L'})"
   ]
  },
  {
   "cell_type": "code",
   "execution_count": 28,
   "metadata": {},
   "outputs": [],
   "source": [
    "df = pd.read_csv(\"indexProcessed.csv\")\n"
   ]
  },
  {
   "cell_type": "code",
   "execution_count": 29,
   "metadata": {},
   "outputs": [
    {
     "data": {
      "text/html": [
       "<div>\n",
       "<style scoped>\n",
       "    .dataframe tbody tr th:only-of-type {\n",
       "        vertical-align: middle;\n",
       "    }\n",
       "\n",
       "    .dataframe tbody tr th {\n",
       "        vertical-align: top;\n",
       "    }\n",
       "\n",
       "    .dataframe thead th {\n",
       "        text-align: right;\n",
       "    }\n",
       "</style>\n",
       "<table border=\"1\" class=\"dataframe\">\n",
       "  <thead>\n",
       "    <tr style=\"text-align: right;\">\n",
       "      <th></th>\n",
       "      <th>Index</th>\n",
       "      <th>Date</th>\n",
       "      <th>Open</th>\n",
       "      <th>High</th>\n",
       "      <th>Low</th>\n",
       "      <th>Close</th>\n",
       "      <th>Adj Close</th>\n",
       "      <th>Volume</th>\n",
       "      <th>CloseUSD</th>\n",
       "    </tr>\n",
       "  </thead>\n",
       "  <tbody>\n",
       "    <tr>\n",
       "      <th>0</th>\n",
       "      <td>HSI</td>\n",
       "      <td>1986-12-31</td>\n",
       "      <td>2568.300049</td>\n",
       "      <td>2568.300049</td>\n",
       "      <td>2568.300049</td>\n",
       "      <td>2568.300049</td>\n",
       "      <td>2568.300049</td>\n",
       "      <td>0.0</td>\n",
       "      <td>333.879006</td>\n",
       "    </tr>\n",
       "    <tr>\n",
       "      <th>1</th>\n",
       "      <td>HSI</td>\n",
       "      <td>1987-01-02</td>\n",
       "      <td>2540.100098</td>\n",
       "      <td>2540.100098</td>\n",
       "      <td>2540.100098</td>\n",
       "      <td>2540.100098</td>\n",
       "      <td>2540.100098</td>\n",
       "      <td>0.0</td>\n",
       "      <td>330.213013</td>\n",
       "    </tr>\n",
       "    <tr>\n",
       "      <th>2</th>\n",
       "      <td>HSI</td>\n",
       "      <td>1987-01-05</td>\n",
       "      <td>2552.399902</td>\n",
       "      <td>2552.399902</td>\n",
       "      <td>2552.399902</td>\n",
       "      <td>2552.399902</td>\n",
       "      <td>2552.399902</td>\n",
       "      <td>0.0</td>\n",
       "      <td>331.811987</td>\n",
       "    </tr>\n",
       "    <tr>\n",
       "      <th>3</th>\n",
       "      <td>HSI</td>\n",
       "      <td>1987-01-06</td>\n",
       "      <td>2583.899902</td>\n",
       "      <td>2583.899902</td>\n",
       "      <td>2583.899902</td>\n",
       "      <td>2583.899902</td>\n",
       "      <td>2583.899902</td>\n",
       "      <td>0.0</td>\n",
       "      <td>335.906987</td>\n",
       "    </tr>\n",
       "    <tr>\n",
       "      <th>4</th>\n",
       "      <td>HSI</td>\n",
       "      <td>1987-01-07</td>\n",
       "      <td>2607.100098</td>\n",
       "      <td>2607.100098</td>\n",
       "      <td>2607.100098</td>\n",
       "      <td>2607.100098</td>\n",
       "      <td>2607.100098</td>\n",
       "      <td>0.0</td>\n",
       "      <td>338.923013</td>\n",
       "    </tr>\n",
       "    <tr>\n",
       "      <th>...</th>\n",
       "      <td>...</td>\n",
       "      <td>...</td>\n",
       "      <td>...</td>\n",
       "      <td>...</td>\n",
       "      <td>...</td>\n",
       "      <td>...</td>\n",
       "      <td>...</td>\n",
       "      <td>...</td>\n",
       "      <td>...</td>\n",
       "    </tr>\n",
       "    <tr>\n",
       "      <th>104219</th>\n",
       "      <td>J203.JO</td>\n",
       "      <td>2021-05-25</td>\n",
       "      <td>66054.921880</td>\n",
       "      <td>66812.453130</td>\n",
       "      <td>66022.976560</td>\n",
       "      <td>66076.679690</td>\n",
       "      <td>66076.679690</td>\n",
       "      <td>0.0</td>\n",
       "      <td>4625.367578</td>\n",
       "    </tr>\n",
       "    <tr>\n",
       "      <th>104220</th>\n",
       "      <td>J203.JO</td>\n",
       "      <td>2021-05-26</td>\n",
       "      <td>66076.679690</td>\n",
       "      <td>66446.367190</td>\n",
       "      <td>66030.351560</td>\n",
       "      <td>66108.226560</td>\n",
       "      <td>66108.226560</td>\n",
       "      <td>0.0</td>\n",
       "      <td>4627.575859</td>\n",
       "    </tr>\n",
       "    <tr>\n",
       "      <th>104221</th>\n",
       "      <td>J203.JO</td>\n",
       "      <td>2021-05-27</td>\n",
       "      <td>66108.226560</td>\n",
       "      <td>66940.250000</td>\n",
       "      <td>66102.546880</td>\n",
       "      <td>66940.250000</td>\n",
       "      <td>66940.250000</td>\n",
       "      <td>0.0</td>\n",
       "      <td>4685.817500</td>\n",
       "    </tr>\n",
       "    <tr>\n",
       "      <th>104222</th>\n",
       "      <td>J203.JO</td>\n",
       "      <td>2021-05-28</td>\n",
       "      <td>66940.250000</td>\n",
       "      <td>67726.562500</td>\n",
       "      <td>66794.609380</td>\n",
       "      <td>67554.859380</td>\n",
       "      <td>67554.859380</td>\n",
       "      <td>0.0</td>\n",
       "      <td>4728.840157</td>\n",
       "    </tr>\n",
       "    <tr>\n",
       "      <th>104223</th>\n",
       "      <td>J203.JO</td>\n",
       "      <td>2021-05-31</td>\n",
       "      <td>67554.859380</td>\n",
       "      <td>68140.851560</td>\n",
       "      <td>67554.859380</td>\n",
       "      <td>67964.039060</td>\n",
       "      <td>67964.039060</td>\n",
       "      <td>0.0</td>\n",
       "      <td>4757.482734</td>\n",
       "    </tr>\n",
       "  </tbody>\n",
       "</table>\n",
       "<p>104224 rows × 9 columns</p>\n",
       "</div>"
      ],
      "text/plain": [
       "          Index        Date          Open          High           Low  \\\n",
       "0           HSI  1986-12-31   2568.300049   2568.300049   2568.300049   \n",
       "1           HSI  1987-01-02   2540.100098   2540.100098   2540.100098   \n",
       "2           HSI  1987-01-05   2552.399902   2552.399902   2552.399902   \n",
       "3           HSI  1987-01-06   2583.899902   2583.899902   2583.899902   \n",
       "4           HSI  1987-01-07   2607.100098   2607.100098   2607.100098   \n",
       "...         ...         ...           ...           ...           ...   \n",
       "104219  J203.JO  2021-05-25  66054.921880  66812.453130  66022.976560   \n",
       "104220  J203.JO  2021-05-26  66076.679690  66446.367190  66030.351560   \n",
       "104221  J203.JO  2021-05-27  66108.226560  66940.250000  66102.546880   \n",
       "104222  J203.JO  2021-05-28  66940.250000  67726.562500  66794.609380   \n",
       "104223  J203.JO  2021-05-31  67554.859380  68140.851560  67554.859380   \n",
       "\n",
       "               Close     Adj Close  Volume     CloseUSD  \n",
       "0        2568.300049   2568.300049     0.0   333.879006  \n",
       "1        2540.100098   2540.100098     0.0   330.213013  \n",
       "2        2552.399902   2552.399902     0.0   331.811987  \n",
       "3        2583.899902   2583.899902     0.0   335.906987  \n",
       "4        2607.100098   2607.100098     0.0   338.923013  \n",
       "...              ...           ...     ...          ...  \n",
       "104219  66076.679690  66076.679690     0.0  4625.367578  \n",
       "104220  66108.226560  66108.226560     0.0  4627.575859  \n",
       "104221  66940.250000  66940.250000     0.0  4685.817500  \n",
       "104222  67554.859380  67554.859380     0.0  4728.840157  \n",
       "104223  67964.039060  67964.039060     0.0  4757.482734  \n",
       "\n",
       "[104224 rows x 9 columns]"
      ]
     },
     "execution_count": 29,
     "metadata": {},
     "output_type": "execute_result"
    }
   ],
   "source": [
    "df"
   ]
  },
  {
   "cell_type": "code",
   "execution_count": 30,
   "metadata": {},
   "outputs": [
    {
     "data": {
      "text/plain": [
       "{'Index': 'HSI',\n",
       " 'Date': '2007-09-13',\n",
       " 'Open': 24475.9707,\n",
       " 'High': 24552.17969,\n",
       " 'Low': 24216.41016,\n",
       " 'Close': 24537.01953,\n",
       " 'Adj Close': 24537.01953,\n",
       " 'Volume': 1378258500.0,\n",
       " 'CloseUSD': 3189.8125389}"
      ]
     },
     "execution_count": 30,
     "metadata": {},
     "output_type": "execute_result"
    }
   ],
   "source": [
    "df.sample(1).to_dict(orient=\"records\")[0]"
   ]
  },
  {
   "cell_type": "code",
   "execution_count": 33,
   "metadata": {},
   "outputs": [],
   "source": [
    "while True:\n",
    "    dict_stock = df.sample(1).to_dict(orient=\"records\")[0]\n",
    "    producer.send('demo_test', value=dict_stock)\n",
    "    sleep(1)\n"
   ]
  },
  {
   "cell_type": "code",
   "execution_count": 27,
   "metadata": {},
   "outputs": [],
   "source": [
    "producer.flush()\n"
   ]
  },
  {
   "cell_type": "code",
   "execution_count": null,
   "metadata": {},
   "outputs": [],
   "source": []
  }
 ],
 "metadata": {
  "kernelspec": {
   "display_name": "Python 3",
   "language": "python",
   "name": "python3"
  },
  "language_info": {
   "codemirror_mode": {
    "name": "ipython",
    "version": 3
   },
   "file_extension": ".py",
   "mimetype": "text/x-python",
   "name": "python",
   "nbconvert_exporter": "python",
   "pygments_lexer": "ipython3",
   "version": "3.10.11"
  },
  "orig_nbformat": 4
 },
 "nbformat": 4,
 "nbformat_minor": 2
}
